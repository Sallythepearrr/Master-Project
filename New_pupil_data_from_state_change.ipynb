{
 "cells": [
  {
   "cell_type": "code",
   "execution_count": 53,
   "id": "d5867f07-42c1-4f43-858b-69236ef652b8",
   "metadata": {},
   "outputs": [],
   "source": [
    "import numpy as np\n",
    "import pandas as pd\n",
    "import matplotlib.pyplot as plt\n",
    "from datetime import timedelta\n",
    "import pytz"
   ]
  },
  {
   "cell_type": "markdown",
   "id": "65916061-4dc9-4f0a-80a1-293f5118b431",
   "metadata": {},
   "source": [
    "# Import State change data"
   ]
  },
  {
   "cell_type": "code",
   "execution_count": 54,
   "id": "cfe01841-3c64-4f2b-8940-ee8e31d43ab2",
   "metadata": {},
   "outputs": [],
   "source": [
    "# From bpod (Need to edit for every new entry)\n",
    "TrialStartTimeStamp = 0.5334\n",
    "TrialEndTimeStamp = 1341.1 + 1"
   ]
  },
  {
   "cell_type": "code",
   "execution_count": 55,
   "id": "99fe9943",
   "metadata": {},
   "outputs": [],
   "source": [
    "state_file_path = '/Users/zhangpan/MasterProject/Clive/Training_Data_New_Cohort1/New_TrainingDay8_01052024/State_Data_01052024_Training_Cohort1_Day8_Clive.csv'\n",
    "pupil_file_path = '/Users/zhangpan/MasterProject/Clive/Training_Data_New_Cohort1/New_TrainingDay8_01052024/Pupil_Data_01052024_Training_Cohort1_Day8_Clive.csv'"
   ]
  },
  {
   "cell_type": "code",
   "execution_count": 56,
   "id": "224f9e2c-6f02-445e-b9b8-61b6f40061fe",
   "metadata": {},
   "outputs": [
    {
     "data": {
      "text/plain": [
       "Timestamp('2024-05-01 11:50:41.562292800+0100', tz='pytz.FixedOffset(60)')"
      ]
     },
     "execution_count": 56,
     "metadata": {},
     "output_type": "execute_result"
    }
   ],
   "source": [
    "df_change_state = pd.read_csv(state_file_path, header=None, names=['state_count', 'timestamp'])\n",
    "# Convert the 'timestamp' column to pandas datetime format\n",
    "df_change_state['timestamp'] = pd.to_datetime(df_change_state['timestamp'])\n",
    "\n",
    "# Calculate the time difference in seconds from the first timestamp\n",
    "df_change_state['seconds_since_start'] = (df_change_state['timestamp'] - df_change_state['timestamp'].iloc[0]).dt.total_seconds()\n",
    "df_change_state['duration'] = df_change_state['seconds_since_start'].diff().shift(-1, fill_value=None)\n",
    "\n",
    "# Add the time before the first state change (the first trial start timestamp)\n",
    "df_change_state['seconds_since_start'] = df_change_state['seconds_since_start']+ TrialStartTimeStamp\n",
    "\n",
    "# Insert the new row at the start of trial\n",
    "new_row = {'timestamp': '0',\n",
    "          'seconds_since_start':0\n",
    "          }  # Replace with your desired timestamp\n",
    "\n",
    "df_change_state.loc[-1] = new_row\n",
    "df_change_state = df_change_state.sort_index().reset_index(drop=True)\n",
    "\n",
    "# Add timestamp of trial start\n",
    "df_change_state.at[0, 'timestamp'] = df_change_state.at[1, 'timestamp'] - timedelta(seconds=TrialStartTimeStamp)\n",
    "\n",
    "# Get trial start time aligned from bonsai\n",
    "trial_start_bonsai_time = df_change_state['timestamp'][0]\n",
    "trial_start_bonsai_time"
   ]
  },
  {
   "cell_type": "markdown",
   "id": "10b1afe1-d493-4b88-910f-d67635f49372",
   "metadata": {},
   "source": [
    "# Pupil size"
   ]
  },
  {
   "cell_type": "code",
   "execution_count": 57,
   "id": "c78ffc7c-f8dd-4d56-abdf-0e2bb8a788d6",
   "metadata": {},
   "outputs": [
    {
     "data": {
      "text/html": [
       "<div>\n",
       "<style scoped>\n",
       "    .dataframe tbody tr th:only-of-type {\n",
       "        vertical-align: middle;\n",
       "    }\n",
       "\n",
       "    .dataframe tbody tr th {\n",
       "        vertical-align: top;\n",
       "    }\n",
       "\n",
       "    .dataframe thead th {\n",
       "        text-align: right;\n",
       "    }\n",
       "</style>\n",
       "<table border=\"1\" class=\"dataframe\">\n",
       "  <thead>\n",
       "    <tr style=\"text-align: right;\">\n",
       "      <th></th>\n",
       "      <th>x</th>\n",
       "      <th>y</th>\n",
       "      <th>timestamp</th>\n",
       "    </tr>\n",
       "  </thead>\n",
       "  <tbody>\n",
       "    <tr>\n",
       "      <th>0</th>\n",
       "      <td>236.032822</td>\n",
       "      <td>103.321960</td>\n",
       "      <td>0.005963</td>\n",
       "    </tr>\n",
       "    <tr>\n",
       "      <th>1</th>\n",
       "      <td>236.851044</td>\n",
       "      <td>104.402084</td>\n",
       "      <td>0.021976</td>\n",
       "    </tr>\n",
       "    <tr>\n",
       "      <th>2</th>\n",
       "      <td>236.198654</td>\n",
       "      <td>104.218407</td>\n",
       "      <td>0.037285</td>\n",
       "    </tr>\n",
       "    <tr>\n",
       "      <th>3</th>\n",
       "      <td>236.018463</td>\n",
       "      <td>104.320221</td>\n",
       "      <td>0.053477</td>\n",
       "    </tr>\n",
       "    <tr>\n",
       "      <th>4</th>\n",
       "      <td>236.882248</td>\n",
       "      <td>103.949203</td>\n",
       "      <td>0.068965</td>\n",
       "    </tr>\n",
       "    <tr>\n",
       "      <th>...</th>\n",
       "      <td>...</td>\n",
       "      <td>...</td>\n",
       "      <td>...</td>\n",
       "    </tr>\n",
       "    <tr>\n",
       "      <th>81320</th>\n",
       "      <td>213.144226</td>\n",
       "      <td>98.713432</td>\n",
       "      <td>1342.027736</td>\n",
       "    </tr>\n",
       "    <tr>\n",
       "      <th>81321</th>\n",
       "      <td>212.043915</td>\n",
       "      <td>99.079849</td>\n",
       "      <td>1342.043595</td>\n",
       "    </tr>\n",
       "    <tr>\n",
       "      <th>81322</th>\n",
       "      <td>209.662979</td>\n",
       "      <td>103.547188</td>\n",
       "      <td>1342.059339</td>\n",
       "    </tr>\n",
       "    <tr>\n",
       "      <th>81323</th>\n",
       "      <td>209.135757</td>\n",
       "      <td>106.630547</td>\n",
       "      <td>1342.075058</td>\n",
       "    </tr>\n",
       "    <tr>\n",
       "      <th>81324</th>\n",
       "      <td>209.877090</td>\n",
       "      <td>104.466866</td>\n",
       "      <td>1342.091058</td>\n",
       "    </tr>\n",
       "  </tbody>\n",
       "</table>\n",
       "<p>81325 rows × 3 columns</p>\n",
       "</div>"
      ],
      "text/plain": [
       "                x           y    timestamp\n",
       "0      236.032822  103.321960     0.005963\n",
       "1      236.851044  104.402084     0.021976\n",
       "2      236.198654  104.218407     0.037285\n",
       "3      236.018463  104.320221     0.053477\n",
       "4      236.882248  103.949203     0.068965\n",
       "...           ...         ...          ...\n",
       "81320  213.144226   98.713432  1342.027736\n",
       "81321  212.043915   99.079849  1342.043595\n",
       "81322  209.662979  103.547188  1342.059339\n",
       "81323  209.135757  106.630547  1342.075058\n",
       "81324  209.877090  104.466866  1342.091058\n",
       "\n",
       "[81325 rows x 3 columns]"
      ]
     },
     "execution_count": 57,
     "metadata": {},
     "output_type": "execute_result"
    }
   ],
   "source": [
    "df_pupil = pd.read_csv(pupil_file_path, header=None, names=['x', 'y', 'timestamp'])\n",
    "\n",
    "\n",
    "# cut above the start of the trial (using bonsai time)\n",
    "df_pupil['timestamp'] = pd.to_datetime(df_pupil['timestamp'])\n",
    "df_pupil['seconds_since_start'] = (df_pupil['timestamp'] - trial_start_bonsai_time).dt.total_seconds()\n",
    "df_pupil = df_pupil[df_pupil['seconds_since_start'] >= 0].reset_index(drop=True)\n",
    "\n",
    "# cut below the end of last trial (using bpod time +1s just in case)\n",
    "df_pupil_size = df_pupil[df_pupil['seconds_since_start'] <= TrialEndTimeStamp].reset_index(drop=True)\n",
    "df_pupil_size = df_pupil_size.drop('timestamp', axis=1)\n",
    "df_pupil_size = df_pupil_size.rename(columns={'seconds_since_start': 'timestamp'})\n",
    "df_pupil_size"
   ]
  },
  {
   "cell_type": "code",
   "execution_count": 58,
   "id": "d724065d-1f89-4a20-a40c-c3870971471b",
   "metadata": {},
   "outputs": [],
   "source": [
    "df_pupil_size.to_csv('New_Pupil_Data_01052024_Day8_Clive.csv', index=False)"
   ]
  }
 ],
 "metadata": {
  "kernelspec": {
   "display_name": "Python 3 (ipykernel)",
   "language": "python",
   "name": "python3"
  },
  "language_info": {
   "codemirror_mode": {
    "name": "ipython",
    "version": 3
   },
   "file_extension": ".py",
   "mimetype": "text/x-python",
   "name": "python",
   "nbconvert_exporter": "python",
   "pygments_lexer": "ipython3",
   "version": "3.8.18"
  }
 },
 "nbformat": 4,
 "nbformat_minor": 5
}
